{
 "cells": [
  {
   "cell_type": "markdown",
   "metadata": {
    "deletable": false,
    "editable": false,
    "nbgrader": {
     "cell_type": "markdown",
     "checksum": "0163ae1f400a586bd55b8d643a462a66",
     "grade": false,
     "grade_id": "Heading",
     "locked": true,
     "schema_version": 3,
     "solution": false
    }
   },
   "source": [
    "## Causal Inference\n",
    "# School of Information, University of Michigan \n",
    "## Week 3"
   ]
  },
  {
   "cell_type": "markdown",
   "metadata": {
    "deletable": false,
    "editable": false,
    "nbgrader": {
     "cell_type": "markdown",
     "checksum": "03a8cf9c540afb3d6c33e15358a74cba",
     "grade": false,
     "grade_id": "Resources",
     "locked": true,
     "schema_version": 3,
     "solution": false
    }
   },
   "source": [
    "### Resources:\n",
    "- Course Manual, which can be found in Coursera\n",
    "- [Instrumental Variables & Randomized Encouragement Trials: Driving Engagement of Learners](assets/MediumArticle.pdf)"
   ]
  },
  {
   "cell_type": "markdown",
   "metadata": {
    "deletable": false,
    "editable": false,
    "nbgrader": {
     "cell_type": "markdown",
     "checksum": "9fadc0b188cd88e9176eed938b969040",
     "grade": false,
     "grade_id": "BackgroundPart1",
     "locked": true,
     "schema_version": 3,
     "solution": false
    }
   },
   "source": [
    "## Part 1\n",
    "\n",
    "### Background\n",
    "\n",
    "Researchers in Coursera are interested in figuring out whether a certain learning style can cause a learner to be more engaged and thus more likely to ultimately complete a course."
   ]
  },
  {
   "cell_type": "markdown",
   "metadata": {},
   "source": [
    "### Data\n",
    "\n",
    "The data file lecture3.csv contains 7 variables for 49,808 learners on the online learning platform Coursera. Below are the descriptions of each variable in the data:\n",
    "\n",
    "- *id*: a unique identifier for each leaner\n",
    "- *paid_enroll*: dummy variable that equals to 1 if a learner has paid for enrollment, 0 otherwise\n",
    "- *prv_wk_nbr*: the most recent course week a learner has completed, as a measure of how far the learner is into the class (e.g. if a learner most recently completed week 2 of a course, this variable is equal to 2)\n",
    "- *prv_wk_min*: the minutes a learner spent in the previous week on the platform\n",
    "- *message*: equal to 1 if a learner is in the treatment group (i.e. he/she received a message), 0 otherwise\n",
    "- *binge*: equal to 1 if a learner has binged, 0 otherwise (bingeing behavior is defined as completing and starting consecutive weeks of a course on the same day)\n",
    "- *complete*: dummy variable that is equal to 1 if a learner completed the next week in the course, 0 otherwise\n"
   ]
  },
  {
   "cell_type": "code",
   "execution_count": 1,
   "metadata": {
    "deletable": false,
    "editable": false,
    "nbgrader": {
     "cell_type": "code",
     "checksum": "ebbca4c777d5a464fab4c8efda7c9c1c",
     "grade": false,
     "grade_id": "ImportStatements",
     "locked": true,
     "schema_version": 3,
     "solution": false
    }
   },
   "outputs": [],
   "source": [
    "# Import statements. Run this cell.\n",
    "\n",
    "import pandas as pd\n",
    "import numpy as np\n",
    "import statsmodels.api as sm\n",
    "import statsmodels.formula.api as smf\n",
    "import statsmodels.stats.api as sms\n",
    "from scipy import stats\n",
    "from linearmodels import IV2SLS"
   ]
  },
  {
   "cell_type": "code",
   "execution_count": 2,
   "metadata": {},
   "outputs": [
    {
     "name": "stdout",
     "output_type": "stream",
     "text": [
      "Collecting plotly==5.10.0\r\n",
      "  Downloading plotly-5.10.0-py2.py3-none-any.whl (15.2 MB)\r\n",
      "     |████████████████████████████████| 15.2 MB 24.1 MB/s eta 0:00:01     |████████████████████████████████| 15.2 MB 24.1 MB/s            \n",
      "\u001b[?25hCollecting tenacity>=6.2.0\n",
      "  Downloading tenacity-8.1.0-py3-none-any.whl (23 kB)\n",
      "Installing collected packages: tenacity, plotly\n",
      "Successfully installed plotly-5.10.0 tenacity-8.1.0\n"
     ]
    }
   ],
   "source": [
    "!pip install plotly==5.10.0"
   ]
  },
  {
   "cell_type": "code",
   "execution_count": 3,
   "metadata": {},
   "outputs": [
    {
     "data": {
      "text/html": [
       "<div>\n",
       "<style scoped>\n",
       "    .dataframe tbody tr th:only-of-type {\n",
       "        vertical-align: middle;\n",
       "    }\n",
       "\n",
       "    .dataframe tbody tr th {\n",
       "        vertical-align: top;\n",
       "    }\n",
       "\n",
       "    .dataframe thead th {\n",
       "        text-align: right;\n",
       "    }\n",
       "</style>\n",
       "<table border=\"1\" class=\"dataframe\">\n",
       "  <thead>\n",
       "    <tr style=\"text-align: right;\">\n",
       "      <th></th>\n",
       "      <th>id</th>\n",
       "      <th>paid_enroll</th>\n",
       "      <th>prv_wk_nbr</th>\n",
       "      <th>prv_wk_min</th>\n",
       "      <th>message</th>\n",
       "      <th>binge</th>\n",
       "      <th>complete</th>\n",
       "    </tr>\n",
       "  </thead>\n",
       "  <tbody>\n",
       "    <tr>\n",
       "      <th>0</th>\n",
       "      <td>1</td>\n",
       "      <td>1</td>\n",
       "      <td>2</td>\n",
       "      <td>193</td>\n",
       "      <td>0</td>\n",
       "      <td>1</td>\n",
       "      <td>1</td>\n",
       "    </tr>\n",
       "    <tr>\n",
       "      <th>1</th>\n",
       "      <td>2</td>\n",
       "      <td>0</td>\n",
       "      <td>5</td>\n",
       "      <td>194</td>\n",
       "      <td>0</td>\n",
       "      <td>1</td>\n",
       "      <td>1</td>\n",
       "    </tr>\n",
       "    <tr>\n",
       "      <th>2</th>\n",
       "      <td>3</td>\n",
       "      <td>1</td>\n",
       "      <td>1</td>\n",
       "      <td>45</td>\n",
       "      <td>0</td>\n",
       "      <td>0</td>\n",
       "      <td>1</td>\n",
       "    </tr>\n",
       "    <tr>\n",
       "      <th>3</th>\n",
       "      <td>4</td>\n",
       "      <td>1</td>\n",
       "      <td>4</td>\n",
       "      <td>118</td>\n",
       "      <td>0</td>\n",
       "      <td>0</td>\n",
       "      <td>1</td>\n",
       "    </tr>\n",
       "    <tr>\n",
       "      <th>4</th>\n",
       "      <td>5</td>\n",
       "      <td>0</td>\n",
       "      <td>5</td>\n",
       "      <td>247</td>\n",
       "      <td>0</td>\n",
       "      <td>1</td>\n",
       "      <td>1</td>\n",
       "    </tr>\n",
       "  </tbody>\n",
       "</table>\n",
       "</div>"
      ],
      "text/plain": [
       "   id  paid_enroll  prv_wk_nbr  prv_wk_min  message  binge  complete\n",
       "0   1            1           2         193        0      1         1\n",
       "1   2            0           5         194        0      1         1\n",
       "2   3            1           1          45        0      0         1\n",
       "3   4            1           4         118        0      0         1\n",
       "4   5            0           5         247        0      1         1"
      ]
     },
     "execution_count": 3,
     "metadata": {},
     "output_type": "execute_result"
    }
   ],
   "source": [
    "#Uploading data for assignment. Run this cell.\n",
    "data_coursera = pd.read_csv('assets/lecture3.csv')\n",
    "\n",
    "#Uncomment below to see the first five lines of the dataframe.\n",
    "data_coursera.head()"
   ]
  },
  {
   "cell_type": "markdown",
   "metadata": {
    "deletable": false,
    "editable": false,
    "nbgrader": {
     "cell_type": "markdown",
     "checksum": "1dfe831f30edd73b47ca04cc07b66aaf",
     "grade": false,
     "grade_id": "Question1_1",
     "locked": true,
     "schema_version": 3,
     "solution": false
    }
   },
   "source": [
    "## Questions\n",
    "\n",
    "We are interested in investigating whether bingeing, defined as completing and starting consecutive weeks of a course on the same day, increases the likelihood of completing the following week in a course.\n",
    "\n",
    "**Note**: You can refer to the manual for the methods we use in the assignment if you need to. \n",
    "\n",
    "**Use the data_coursera dataframe uploaded above to answer the questions below unless otherwise specified.**\n",
    "\n",
    "**1.** Using robust standard errors in the statsmodels module, regress the variable *complete* on *binge*. Assign the coefficient in front of *binge* to the variable `binge_coeff1_1` and ensure that its data type is float. (Round to four decimal places.) (1 pt)"
   ]
  },
  {
   "cell_type": "code",
   "execution_count": 4,
   "metadata": {
    "deletable": false,
    "nbgrader": {
     "cell_type": "code",
     "checksum": "233864dcc7fd0be5f3c9330a2145598a",
     "grade": false,
     "grade_id": "Answer1_1",
     "locked": false,
     "schema_version": 3,
     "solution": true
    }
   },
   "outputs": [],
   "source": [
    "model = smf.ols(formula = 'complete ~ binge', data = data_coursera).fit()\n",
    "robust_model = model.get_robustcov_results(cov_type = 'HC1')\n",
    "binge_coeff1_1 = round(robust_model.params[1],4)\n",
    "#raise NotImplementedError()"
   ]
  },
  {
   "cell_type": "code",
   "execution_count": 5,
   "metadata": {
    "deletable": false,
    "editable": false,
    "nbgrader": {
     "cell_type": "code",
     "checksum": "bb73d56783d9a5ea9e5f88055f0bf1fe",
     "grade": true,
     "grade_id": "Test1_1",
     "locked": true,
     "points": 1,
     "schema_version": 3,
     "solution": false
    }
   },
   "outputs": [],
   "source": [
    "# Hidden Tests, checking value of binge_coeff1_1."
   ]
  },
  {
   "cell_type": "markdown",
   "metadata": {
    "deletable": false,
    "editable": false,
    "nbgrader": {
     "cell_type": "markdown",
     "checksum": "4be214c706fb1bbb6afb06742321ceeb",
     "grade": false,
     "grade_id": "Question1_2",
     "locked": true,
     "schema_version": 3,
     "solution": false
    }
   },
   "source": [
    "**2.** Now run the regression (using robust standard errors) one more time with additional controls: *paid_enroll*, *prv_wk_nbr*, *prv_wk_min*. Assign the coefficient in front of *binge* to the variable `binge_coeff1_2` and ensure that its data type is float. (Round to four decimal places.) (1 pt)"
   ]
  },
  {
   "cell_type": "code",
   "execution_count": null,
   "metadata": {
    "deletable": false,
    "nbgrader": {
     "cell_type": "code",
     "checksum": "c56295fbda32b629807b0325812e44c1",
     "grade": false,
     "grade_id": "Answer1_2",
     "locked": false,
     "schema_version": 3,
     "solution": true
    }
   },
   "outputs": [],
   "source": [
    "# YOUR CODE HERE\n",
    "raise NotImplementedError()"
   ]
  },
  {
   "cell_type": "code",
   "execution_count": null,
   "metadata": {
    "deletable": false,
    "editable": false,
    "nbgrader": {
     "cell_type": "code",
     "checksum": "9ad74ebc9d1ba33945a5d60b98472721",
     "grade": true,
     "grade_id": "Test1_2",
     "locked": true,
     "points": 1,
     "schema_version": 3,
     "solution": false
    }
   },
   "outputs": [],
   "source": [
    "# Hidden Tests, checking value of binge_coeff1_2."
   ]
  },
  {
   "cell_type": "markdown",
   "metadata": {
    "deletable": false,
    "editable": false,
    "nbgrader": {
     "cell_type": "markdown",
     "checksum": "98c934af2ff84af48b33359f93b01e56",
     "grade": false,
     "grade_id": "Description",
     "locked": true,
     "schema_version": 3,
     "solution": false
    }
   },
   "source": [
    "When the point estimate we are interested in (i.e., the coefficient in front of variable binge) changes drastically with the inclusion of further covariates, we consider that to be worrisome for causal inference purposes (remember the regression sensitivity analysis). Furthermore, intuitively the positive correlation between bingeing and completion could just be the result of self-selection by learners who are both inherently more likely to complete as well as more likely to binge because of higher motivation. To overcome this problem, researchers in Coursera decided to run a randomized encouragement trial. They randomly split their learners into two groups. The treatment group received a message immediately after completing a week of material. The goal of the message was to encourage learners to start the next week right away (see below). The control group didn’t receive the message.\n",
    "\n",
    "<img src=\"assets/Congratulations.png\" alt=\"Treatment Message\" style=\"width: 500px;\"/>"
   ]
  },
  {
   "cell_type": "markdown",
   "metadata": {
    "deletable": false,
    "editable": false,
    "nbgrader": {
     "cell_type": "markdown",
     "checksum": "e01010b2281f3654a03ab0cfe606d046",
     "grade": false,
     "grade_id": "ManualQuestion2_1",
     "locked": true,
     "schema_version": 3,
     "solution": false
    }
   },
   "source": [
    "## Part 2\n",
    "\n",
    "### Questions \n",
    "\n",
    "We will be using the binary variable message as our instrument to investigate the impact of binging on completion of the following week’s lecture.\n",
    "\n",
    "**1.** Since messages were randomly assigned, we know that the independence assumption is satisfied. What does the exclusion restriction mean in this context? (2 pts)\n",
    "\n",
    "**Note**: This question will be manually graded. "
   ]
  },
  {
   "cell_type": "markdown",
   "metadata": {
    "deletable": false,
    "nbgrader": {
     "cell_type": "markdown",
     "checksum": "0072c6dc4c2e9ad4b62e61287c88d172",
     "grade": true,
     "grade_id": "ManualAnswer2_1",
     "locked": false,
     "points": 0,
     "schema_version": 3,
     "solution": true
    }
   },
   "source": [
    "YOUR ANSWER HERE"
   ]
  },
  {
   "cell_type": "markdown",
   "metadata": {
    "deletable": false,
    "editable": false,
    "nbgrader": {
     "cell_type": "markdown",
     "checksum": "d01c4bed423b89bacb2c31e83dd1dbd1",
     "grade": false,
     "grade_id": "Question2_2a",
     "locked": true,
     "schema_version": 3,
     "solution": false
    }
   },
   "source": [
    "**2.** Let’s look at the first stage relationship.\n",
    "\n",
    "**2a.** Using robust standard errors in the statsmodels module, regress variable *binge* on variable *message*. Assign the results (using the `.get_robustcov_results()` method) to the variable `robust_reg2_2a`. (1 pt)"
   ]
  },
  {
   "cell_type": "code",
   "execution_count": null,
   "metadata": {
    "deletable": false,
    "nbgrader": {
     "cell_type": "code",
     "checksum": "7cb7d524022bb6509a86aeda7519cc3d",
     "grade": false,
     "grade_id": "Answer2_2a",
     "locked": false,
     "schema_version": 3,
     "solution": true
    }
   },
   "outputs": [],
   "source": [
    "# YOUR CODE HERE\n",
    "raise NotImplementedError()"
   ]
  },
  {
   "cell_type": "code",
   "execution_count": null,
   "metadata": {
    "deletable": false,
    "editable": false,
    "nbgrader": {
     "cell_type": "code",
     "checksum": "902596e2e5870d4f22b9a5295e510416",
     "grade": true,
     "grade_id": "Test2_2a",
     "locked": true,
     "points": 1,
     "schema_version": 3,
     "solution": false
    }
   },
   "outputs": [],
   "source": [
    "# Hidden Tests, checking the coefficients and standard errors of robust_reg2_2a."
   ]
  },
  {
   "cell_type": "markdown",
   "metadata": {
    "deletable": false,
    "editable": false,
    "nbgrader": {
     "cell_type": "markdown",
     "checksum": "0c17e6965fa6827e816dbcaabbc0a66a",
     "grade": false,
     "grade_id": "ManualQuestion2_2b",
     "locked": true,
     "schema_version": 3,
     "solution": false
    }
   },
   "source": [
    "**2b.** Do we have a strong first stage? Explain. (1 pt)\n",
    "\n",
    "**Note**: This question will be manually graded."
   ]
  },
  {
   "cell_type": "markdown",
   "metadata": {
    "deletable": false,
    "nbgrader": {
     "cell_type": "markdown",
     "checksum": "0ef4d6970af6ae0d6b66cac5d3182f73",
     "grade": true,
     "grade_id": "ManualAnswer2_2b",
     "locked": false,
     "points": 0,
     "schema_version": 3,
     "solution": true
    }
   },
   "source": [
    "YOUR ANSWER HERE"
   ]
  },
  {
   "cell_type": "markdown",
   "metadata": {
    "deletable": false,
    "editable": false,
    "nbgrader": {
     "cell_type": "markdown",
     "checksum": "59885dd200ab0e60891ab190012b8666",
     "grade": false,
     "grade_id": "Question2_3",
     "locked": true,
     "schema_version": 3,
     "solution": false
    }
   },
   "source": [
    "**3.**  Let’s look at the intention-to-treat effect.\n",
    "\n",
    "**3a.** Calculate the “intention-to-treat” (ITT) effect by running the reduced form regression. That is, using robust standard errors, regress *complete* on *message*. Based on your regression results, how much does receiving a message change the likelihood of completing the next week? Assign this number (the coefficient in front of variable *message*) to the variable `l_change2_3` and ensure that its data type is float. (Round to four decimal places.) (1 pt)"
   ]
  },
  {
   "cell_type": "code",
   "execution_count": null,
   "metadata": {
    "deletable": false,
    "nbgrader": {
     "cell_type": "code",
     "checksum": "aa50c77930dc22047b581349c94fd490",
     "grade": false,
     "grade_id": "Answer2_3",
     "locked": false,
     "schema_version": 3,
     "solution": true
    }
   },
   "outputs": [],
   "source": [
    "# YOUR CODE HERE\n",
    "raise NotImplementedError()"
   ]
  },
  {
   "cell_type": "code",
   "execution_count": null,
   "metadata": {
    "deletable": false,
    "editable": false,
    "nbgrader": {
     "cell_type": "code",
     "checksum": "1ea1128d96e06068b0f89b2ca7bacc3e",
     "grade": true,
     "grade_id": "Test2_3",
     "locked": true,
     "points": 1,
     "schema_version": 3,
     "solution": false
    }
   },
   "outputs": [],
   "source": [
    "# Hidden Tests, checking value of l_change2_3"
   ]
  },
  {
   "cell_type": "markdown",
   "metadata": {
    "deletable": false,
    "editable": false,
    "nbgrader": {
     "cell_type": "markdown",
     "checksum": "25b2ec14e7829135219d3c1c8c87d893",
     "grade": false,
     "grade_id": "ManualQuestion2_3",
     "locked": true,
     "schema_version": 3,
     "solution": false
    }
   },
   "source": [
    "**3b.** Based on the p-value, can you conclude that it is significant at the 5% level? Explain. (i.e. report BOTH the p-value AND the decision rule based on p-value to determine if the coefficient differs from 0 at the 5% significance level) (1 pt) \n",
    "\n",
    "**Note**: This question will be manually graded."
   ]
  },
  {
   "cell_type": "markdown",
   "metadata": {
    "deletable": false,
    "nbgrader": {
     "cell_type": "markdown",
     "checksum": "4d9573ba7f300a6e74d2b0694eaaad5c",
     "grade": true,
     "grade_id": "ManualAnswer2_3",
     "locked": false,
     "points": 0,
     "schema_version": 3,
     "solution": true
    }
   },
   "source": [
    "YOUR ANSWER HERE"
   ]
  },
  {
   "cell_type": "markdown",
   "metadata": {
    "deletable": false,
    "editable": false,
    "nbgrader": {
     "cell_type": "markdown",
     "checksum": "907b33e4ba229952fa627e4a320a042d",
     "grade": false,
     "grade_id": "ManualQuestion2_4",
     "locked": true,
     "schema_version": 3,
     "solution": false
    }
   },
   "source": [
    "**4.** The ITT doesn’t take into account that some users may not comply with the treatment assignment. With heterogeneous treatment effects, we have an additional assumption: monotonicity. This means that there are “no defiers” in the population. \n",
    "Explain what “no defiers” means in this context and what its implications are for the identification of treatment effects.\n",
    "(2 pts)\n",
    "\n",
    "**Note**: This question will be manually graded."
   ]
  },
  {
   "cell_type": "markdown",
   "metadata": {
    "deletable": false,
    "nbgrader": {
     "cell_type": "markdown",
     "checksum": "9a5ba1bfeafcbf023f63e0b2e0e88c95",
     "grade": true,
     "grade_id": "ManualAnswer2_4",
     "locked": false,
     "points": 0,
     "schema_version": 3,
     "solution": true
    }
   },
   "source": [
    "YOUR ANSWER HERE"
   ]
  },
  {
   "cell_type": "markdown",
   "metadata": {
    "deletable": false,
    "editable": false,
    "nbgrader": {
     "cell_type": "markdown",
     "checksum": "3fdbd6fb9198d66ad816a667ec68dcc2",
     "grade": false,
     "grade_id": "Question2_5",
     "locked": true,
     "schema_version": 3,
     "solution": false
    }
   },
   "source": [
    "**5.** Assuming the no defiers assumption is satisfied,  calculate the share of “always-takers,” which is given by the probability of bingeing when assigned to not receive a message. (You can calculate this value by dividing the number of learners who binged without receiving a message to the total number of learners in the no message group.) Assign the value to the variable `at_share2_5` and ensure that its data type is float. (Round to four decimal places.) (1 pt)"
   ]
  },
  {
   "cell_type": "code",
   "execution_count": null,
   "metadata": {
    "deletable": false,
    "nbgrader": {
     "cell_type": "code",
     "checksum": "08467cb2a52c5e2d0e09464b7df96b14",
     "grade": false,
     "grade_id": "Answer2_5",
     "locked": false,
     "schema_version": 3,
     "solution": true
    }
   },
   "outputs": [],
   "source": [
    "# YOUR CODE HERE\n",
    "raise NotImplementedError()"
   ]
  },
  {
   "cell_type": "code",
   "execution_count": null,
   "metadata": {
    "deletable": false,
    "editable": false,
    "nbgrader": {
     "cell_type": "code",
     "checksum": "3da37799d4a4b2c9842cf698482f0635",
     "grade": true,
     "grade_id": "Test2_5",
     "locked": true,
     "points": 1,
     "schema_version": 3,
     "solution": false
    }
   },
   "outputs": [],
   "source": [
    "# Hidden Tests, checking value of at_share2_5"
   ]
  },
  {
   "cell_type": "markdown",
   "metadata": {
    "deletable": false,
    "editable": false,
    "nbgrader": {
     "cell_type": "markdown",
     "checksum": "8541b403346e038e6441a5f37a9fd2da",
     "grade": false,
     "grade_id": "Question2_6",
     "locked": true,
     "schema_version": 3,
     "solution": false
    }
   },
   "source": [
    "**6.** Similarly, calculate the share of “never-takers”, which is given by the probability of not bingeing when assigned to receiving a message. Assign the value to the variable `nt_share2_6` and ensure that its data type is float. (Round to four decimal places.) (1 pt)"
   ]
  },
  {
   "cell_type": "code",
   "execution_count": null,
   "metadata": {
    "deletable": false,
    "nbgrader": {
     "cell_type": "code",
     "checksum": "1bcaa8619156fc121c26f612f075f517",
     "grade": false,
     "grade_id": "Answer2_6",
     "locked": false,
     "schema_version": 3,
     "solution": true
    }
   },
   "outputs": [],
   "source": [
    "# YOUR CODE HERE\n",
    "raise NotImplementedError()"
   ]
  },
  {
   "cell_type": "code",
   "execution_count": null,
   "metadata": {
    "deletable": false,
    "editable": false,
    "nbgrader": {
     "cell_type": "code",
     "checksum": "0d54cf5580b1836829c2f515e8852502",
     "grade": true,
     "grade_id": "Test2_6",
     "locked": true,
     "points": 1,
     "schema_version": 3,
     "solution": false
    }
   },
   "outputs": [],
   "source": [
    "# Hidden Tests, checking value of nt_share2_6."
   ]
  },
  {
   "cell_type": "markdown",
   "metadata": {
    "deletable": false,
    "editable": false,
    "nbgrader": {
     "cell_type": "markdown",
     "checksum": "74d951c4c9a11c0eee33adb6ad689150",
     "grade": false,
     "grade_id": "Question2_7",
     "locked": true,
     "schema_version": 3,
     "solution": false
    }
   },
   "source": [
    "**7.** ITT effects divided by the difference in compliance rates between the two groups (i.e. the effect of the instrument on the treatment) captures the causal effect of bingeing on compliers who binged as a result of the experiment. That is, the IV estimate we are interested in is equal to the reduced form divided by the first stage. Calculate the IV estimate manually, that is, divide the reduced form coefficient from Part 2, Question 3a (rounded to four decimal places) by the first stage coefficient from Part 2, Question 2a (rounded to four decimal places). Assign the value to the variable `answer2_7` and ensure that its data type is float. (Round to four decimal places.) (1 pt)"
   ]
  },
  {
   "cell_type": "code",
   "execution_count": null,
   "metadata": {
    "deletable": false,
    "nbgrader": {
     "cell_type": "code",
     "checksum": "87eefbe8ca3a67ac48ba1b4808d05a2d",
     "grade": false,
     "grade_id": "Answer2_7",
     "locked": false,
     "schema_version": 3,
     "solution": true
    }
   },
   "outputs": [],
   "source": [
    "# YOUR CODE HERE\n",
    "raise NotImplementedError()"
   ]
  },
  {
   "cell_type": "code",
   "execution_count": null,
   "metadata": {
    "deletable": false,
    "editable": false,
    "nbgrader": {
     "cell_type": "code",
     "checksum": "32cee85b3691a1d25acb039f7bbb4444",
     "grade": true,
     "grade_id": "Test2_7",
     "locked": true,
     "points": 1,
     "schema_version": 3,
     "solution": false
    }
   },
   "outputs": [],
   "source": [
    "# Hidden Tests, checking value of answer2_7."
   ]
  },
  {
   "cell_type": "markdown",
   "metadata": {
    "deletable": false,
    "editable": false,
    "nbgrader": {
     "cell_type": "markdown",
     "checksum": "3f246384bec09881bda2223d4fb428bd",
     "grade": false,
     "grade_id": "Question2_8",
     "locked": true,
     "schema_version": 3,
     "solution": false
    }
   },
   "source": [
    "**8.** In order to obtain a measure of the precision of our IV estimate we want to use the 2SLS method. Using robust standard errors, run a two-stage least squares regression, where the outcome variable is *complete*, the instrumented variable is *binge* and the instrument is the variable *message*. Use the IV2SLS module from the linearmodels library. Assign the results using the `.fit()` method to the variable `iv2sls2_8`. (2 pts)\n",
    "\n",
    "**Note**: Be sure to remove any NAs from the dataframe before proceeding. "
   ]
  },
  {
   "cell_type": "code",
   "execution_count": null,
   "metadata": {
    "deletable": false,
    "nbgrader": {
     "cell_type": "code",
     "checksum": "01fa7bd6ec757b478b153be7a6026e61",
     "grade": false,
     "grade_id": "Answer2_8",
     "locked": false,
     "schema_version": 3,
     "solution": true
    }
   },
   "outputs": [],
   "source": [
    "# YOUR CODE HERE\n",
    "raise NotImplementedError()"
   ]
  },
  {
   "cell_type": "code",
   "execution_count": null,
   "metadata": {
    "deletable": false,
    "editable": false,
    "nbgrader": {
     "cell_type": "code",
     "checksum": "5420f01c7416da31702d526a9a63e5f0",
     "grade": true,
     "grade_id": "cell-356713fff0582d57",
     "locked": true,
     "points": 2,
     "schema_version": 3,
     "solution": false
    }
   },
   "outputs": [],
   "source": [
    "# Hidden Tests, checking the coefficients and standard errors of iv2sls2_8."
   ]
  }
 ],
 "metadata": {
  "coursera": {
   "schema_names": [
    "mads_causal_inference_v3_assignment3"
   ]
  },
  "kernelspec": {
   "display_name": "Python 3 (ipykernel)",
   "language": "python",
   "name": "python3"
  },
  "language_info": {
   "codemirror_mode": {
    "name": "ipython",
    "version": 3
   },
   "file_extension": ".py",
   "mimetype": "text/x-python",
   "name": "python",
   "nbconvert_exporter": "python",
   "pygments_lexer": "ipython3",
   "version": "3.8.10"
  }
 },
 "nbformat": 4,
 "nbformat_minor": 4
}
